{
  "nbformat": 4,
  "nbformat_minor": 0,
  "metadata": {
    "colab": {
      "provenance": []
    },
    "kernelspec": {
      "name": "python3",
      "display_name": "Python 3"
    },
    "language_info": {
      "name": "python"
    }
  },
  "cells": [
    {
      "cell_type": "markdown",
      "source": [
        "### Vectors and Matrices:"
      ],
      "metadata": {
        "id": "mSIyoJS8dLBP"
      }
    },
    {
      "cell_type": "code",
      "execution_count": null,
      "metadata": {
        "id": "Zl-ptXqUc8qr"
      },
      "outputs": [],
      "source": [
        "import numpy as np\n",
        "import pandas as pd"
      ]
    },
    {
      "cell_type": "code",
      "source": [
        "array1 = np.arange(10).reshape(5,2)\n",
        "array1"
      ],
      "metadata": {
        "colab": {
          "base_uri": "https://localhost:8080/"
        },
        "id": "h0Zlh7F7dBsR",
        "outputId": "ee78da7b-824e-4788-f4f4-05544caebf97"
      },
      "execution_count": null,
      "outputs": [
        {
          "output_type": "execute_result",
          "data": {
            "text/plain": [
              "array([[0, 1],\n",
              "       [2, 3],\n",
              "       [4, 5],\n",
              "       [6, 7],\n",
              "       [8, 9]])"
            ]
          },
          "metadata": {},
          "execution_count": 8
        }
      ]
    },
    {
      "cell_type": "code",
      "source": [
        "print(type(array1))\n",
        "array1.dtype"
      ],
      "metadata": {
        "colab": {
          "base_uri": "https://localhost:8080/"
        },
        "id": "QN4ZOrOiePr2",
        "outputId": "a1160b8e-8e51-4d55-ffd3-9881032e2ccc"
      },
      "execution_count": null,
      "outputs": [
        {
          "output_type": "stream",
          "name": "stdout",
          "text": [
            "<class 'numpy.ndarray'>\n"
          ]
        },
        {
          "output_type": "execute_result",
          "data": {
            "text/plain": [
              "dtype('int64')"
            ]
          },
          "metadata": {},
          "execution_count": 12
        }
      ]
    },
    {
      "cell_type": "code",
      "source": [
        "array2 = array1.astype(float)\n",
        "array2"
      ],
      "metadata": {
        "colab": {
          "base_uri": "https://localhost:8080/"
        },
        "id": "9aInaw4Nebza",
        "outputId": "9d89699e-1bb9-49cc-aaa0-995805476355"
      },
      "execution_count": null,
      "outputs": [
        {
          "output_type": "execute_result",
          "data": {
            "text/plain": [
              "array([[0., 1.],\n",
              "       [2., 3.],\n",
              "       [4., 5.],\n",
              "       [6., 7.],\n",
              "       [8., 9.]])"
            ]
          },
          "metadata": {},
          "execution_count": 10
        }
      ]
    },
    {
      "cell_type": "code",
      "metadata": {
        "colab": {
          "base_uri": "https://localhost:8080/"
        },
        "id": "a0b12fe3",
        "outputId": "2fad6c37-6696-42cf-fd07-e336cf418dce"
      },
      "source": [
        "# create an array with integers\n",
        "array2 = np.array([1, 2, 3, 4, 5])\n",
        "print(\"Original array type:\", array2.dtype)\n",
        "\n",
        "# convert to float\n",
        "array2_float = array2.astype(float)\n",
        "print(\"Converted array type:\", array2_float.dtype)\n",
        "print(\"Converted array:\", array2_float)\n",
        "\n",
        "# convert to string\n",
        "array2_str = array2.astype(str)\n",
        "print(\"Converted array type:\", array2_str.dtype)\n",
        "print(\"Converted array:\", array2_str)"
      ],
      "execution_count": null,
      "outputs": [
        {
          "output_type": "stream",
          "name": "stdout",
          "text": [
            "Original array type: int64\n",
            "Converted array type: float64\n",
            "Converted array: [1. 2. 3. 4. 5.]\n",
            "Converted array type: <U21\n",
            "Converted array: ['1' '2' '3' '4' '5']\n"
          ]
        }
      ]
    },
    {
      "cell_type": "code",
      "source": [
        "array1.ndim"
      ],
      "metadata": {
        "colab": {
          "base_uri": "https://localhost:8080/"
        },
        "id": "lLJ0rvWZe26A",
        "outputId": "dfb200ec-c821-4747-bfdf-ace128e89eb5"
      },
      "execution_count": null,
      "outputs": [
        {
          "output_type": "execute_result",
          "data": {
            "text/plain": [
              "2"
            ]
          },
          "metadata": {},
          "execution_count": 13
        }
      ]
    },
    {
      "cell_type": "code",
      "source": [
        "array1+array2"
      ],
      "metadata": {
        "colab": {
          "base_uri": "https://localhost:8080/"
        },
        "id": "5nAHM73QfiLH",
        "outputId": "1a95bb92-8b47-4e2f-aaa8-36a8ca62bf9f"
      },
      "execution_count": null,
      "outputs": [
        {
          "output_type": "execute_result",
          "data": {
            "text/plain": [
              "array([[ 0.,  2.],\n",
              "       [ 4.,  6.],\n",
              "       [ 8., 10.],\n",
              "       [12., 14.],\n",
              "       [16., 18.]])"
            ]
          },
          "metadata": {},
          "execution_count": 14
        }
      ]
    },
    {
      "cell_type": "code",
      "source": [
        "vector_1 = np.arange(3)\n",
        "vector_1"
      ],
      "metadata": {
        "colab": {
          "base_uri": "https://localhost:8080/"
        },
        "id": "8q0PKp7Ofspf",
        "outputId": "8373c115-f270-43c1-906a-d6d749303b59"
      },
      "execution_count": null,
      "outputs": [
        {
          "output_type": "execute_result",
          "data": {
            "text/plain": [
              "array([0, 1, 2])"
            ]
          },
          "metadata": {},
          "execution_count": 18
        }
      ]
    },
    {
      "cell_type": "code",
      "source": [
        "vector_2 = np.arange(4,7)\n",
        "vector_2"
      ],
      "metadata": {
        "colab": {
          "base_uri": "https://localhost:8080/"
        },
        "id": "uTnD-O4Ff9_G",
        "outputId": "3ad1ce62-baa6-47fd-cdc1-8ee993652dd7"
      },
      "execution_count": null,
      "outputs": [
        {
          "output_type": "execute_result",
          "data": {
            "text/plain": [
              "array([4, 5, 6])"
            ]
          },
          "metadata": {},
          "execution_count": 19
        }
      ]
    },
    {
      "cell_type": "code",
      "source": [
        "vector_1 + vector_2"
      ],
      "metadata": {
        "colab": {
          "base_uri": "https://localhost:8080/"
        },
        "id": "bxewpVEQgBeF",
        "outputId": "01231f6d-54f9-4325-cb95-ee785e72f7de"
      },
      "execution_count": null,
      "outputs": [
        {
          "output_type": "execute_result",
          "data": {
            "text/plain": [
              "array([4, 6, 8])"
            ]
          },
          "metadata": {},
          "execution_count": 20
        }
      ]
    },
    {
      "cell_type": "code",
      "source": [
        "vector_1 - vector_2"
      ],
      "metadata": {
        "colab": {
          "base_uri": "https://localhost:8080/"
        },
        "id": "26Bi8rzfgC9i",
        "outputId": "72db98a2-862b-498b-de7e-917b08001181"
      },
      "execution_count": null,
      "outputs": [
        {
          "output_type": "execute_result",
          "data": {
            "text/plain": [
              "array([-4, -4, -4])"
            ]
          },
          "metadata": {},
          "execution_count": 21
        }
      ]
    },
    {
      "cell_type": "markdown",
      "source": [
        "elementwise multiplication"
      ],
      "metadata": {
        "id": "SLHN_k5GhRG-"
      }
    },
    {
      "cell_type": "code",
      "source": [
        "vector_1 * vector_2"
      ],
      "metadata": {
        "colab": {
          "base_uri": "https://localhost:8080/"
        },
        "id": "kGtVyJJegPGQ",
        "outputId": "365711cc-10a8-46c5-9189-bc27c17a3003"
      },
      "execution_count": null,
      "outputs": [
        {
          "output_type": "execute_result",
          "data": {
            "text/plain": [
              "array([ 0,  5, 12])"
            ]
          },
          "metadata": {},
          "execution_count": 22
        }
      ]
    },
    {
      "cell_type": "markdown",
      "source": [
        "cross product"
      ],
      "metadata": {
        "id": "foZI7LKhheK6"
      }
    },
    {
      "cell_type": "markdown",
      "source": [
        "dot product"
      ],
      "metadata": {
        "id": "bFSrxgB-hBZz"
      }
    },
    {
      "cell_type": "code",
      "source": [
        "dot_product = np.dot(vector_1, vector_2)\n",
        "print(dot_product)\n",
        "dot_product"
      ],
      "metadata": {
        "colab": {
          "base_uri": "https://localhost:8080/"
        },
        "id": "kSz7PmK2hJA5",
        "outputId": "65ae8f43-3877-4a16-e877-75ad51a19eff"
      },
      "execution_count": null,
      "outputs": [
        {
          "output_type": "stream",
          "name": "stdout",
          "text": [
            "17\n"
          ]
        },
        {
          "output_type": "execute_result",
          "data": {
            "text/plain": [
              "np.int64(17)"
            ]
          },
          "metadata": {},
          "execution_count": 25
        }
      ]
    },
    {
      "cell_type": "code",
      "source": [
        "cross_product = np.cross(vector_1, vector_2)\n",
        "cross_product"
      ],
      "metadata": {
        "colab": {
          "base_uri": "https://localhost:8080/"
        },
        "id": "TNL93RU8grbt",
        "outputId": "435b618c-30f1-4ff9-b27a-e973f54b597b"
      },
      "execution_count": null,
      "outputs": [
        {
          "output_type": "execute_result",
          "data": {
            "text/plain": [
              "array([-4,  8, -4])"
            ]
          },
          "metadata": {},
          "execution_count": 23
        }
      ]
    },
    {
      "cell_type": "code",
      "source": [],
      "metadata": {
        "id": "pxUsNndHhOFd"
      },
      "execution_count": null,
      "outputs": []
    }
  ]
}