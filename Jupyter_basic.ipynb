{
 "cells": [
  {
   "cell_type": "code",
   "execution_count": 1,
   "id": "31a7e8d1-931c-4b11-9b5a-948ffaebfbf0",
   "metadata": {},
   "outputs": [
    {
     "name": "stdin",
     "output_type": "stream",
     "text": [
      "Enter num1: 1\n",
      "Enter num2: 2\n"
     ]
    },
    {
     "name": "stdout",
     "output_type": "stream",
     "text": [
      "yes\n"
     ]
    }
   ],
   "source": [
    "num1 = input(\"Enter num1:\")\n",
    "num2 = input(\"Enter num2:\")\n",
    "if num1<num2:\n",
    "    print(\"yes\")\n",
    "else:\n",
    "    print(\"no\")"
   ]
  },
  {
   "cell_type": "code",
   "execution_count": 2,
   "id": "fada004f-c395-4ae1-b1ca-37500a4efbbe",
   "metadata": {},
   "outputs": [],
   "source": [
    "names =['raman', 'baman', 'taman']\n",
    "updated_names=[]"
   ]
  },
  {
   "cell_type": "code",
   "execution_count": 3,
   "id": "8edea95d-5289-4aee-b2d8-f7d2f209aae9",
   "metadata": {},
   "outputs": [
    {
     "data": {
      "text/plain": [
       "['raman gk', 'baman gk', 'taman gk']"
      ]
     },
     "execution_count": 3,
     "metadata": {},
     "output_type": "execute_result"
    }
   ],
   "source": [
    "for i in names:\n",
    "    updated_names.append(i+\" gk\")\n",
    "updated_names"
   ]
  },
  {
   "cell_type": "code",
   "execution_count": 4,
   "id": "a9fe7adc-ff11-43e6-a8cc-b91961892fd0",
   "metadata": {},
   "outputs": [
    {
     "data": {
      "text/plain": [
       "{'ids': [101, 102, 103, 103],\n",
       " 'names': ['Naman', 'Baman', 'Taman', 'Raman'],\n",
       " 'salary': [40000, 50000, 45000, 70000]}"
      ]
     },
     "execution_count": 4,
     "metadata": {},
     "output_type": "execute_result"
    }
   ],
   "source": [
    "emp_data = {'ids':[101,102,103,103],\n",
    "           'names':['Naman','Baman','Taman','Raman'],\n",
    "           'salary':[40000,50000,45000,70000]}\n",
    "emp_data"
   ]
  },
  {
   "cell_type": "code",
   "execution_count": 5,
   "id": "f627cb95-2a81-4e5c-b690-425156900395",
   "metadata": {},
   "outputs": [
    {
     "data": {
      "text/plain": [
       "dict_keys(['ids', 'names', 'salary'])"
      ]
     },
     "execution_count": 5,
     "metadata": {},
     "output_type": "execute_result"
    }
   ],
   "source": [
    "emp_data.keys()"
   ]
  },
  {
   "cell_type": "code",
   "execution_count": 6,
   "id": "7110043f-d45a-475b-bc9f-f3737de0f190",
   "metadata": {},
   "outputs": [
    {
     "data": {
      "text/plain": [
       "dict_values([[101, 102, 103, 103], ['Naman', 'Baman', 'Taman', 'Raman'], [40000, 50000, 45000, 70000]])"
      ]
     },
     "execution_count": 6,
     "metadata": {},
     "output_type": "execute_result"
    }
   ],
   "source": [
    "emp_data.values()"
   ]
  },
  {
   "cell_type": "code",
   "execution_count": 7,
   "id": "1968eeb9-e050-4175-a08a-493278638065",
   "metadata": {},
   "outputs": [
    {
     "data": {
      "text/plain": [
       "dict_items([('ids', [101, 102, 103, 103]), ('names', ['Naman', 'Baman', 'Taman', 'Raman']), ('salary', [40000, 50000, 45000, 70000])])"
      ]
     },
     "execution_count": 7,
     "metadata": {},
     "output_type": "execute_result"
    }
   ],
   "source": [
    "emp_data.items()"
   ]
  },
  {
   "cell_type": "code",
   "execution_count": 8,
   "id": "5a7cdae4-4b3d-4b5f-a427-6c1d6df88bab",
   "metadata": {},
   "outputs": [
    {
     "data": {
      "text/plain": [
       "['Naman', 'Baman', 'Taman', 'Raman']"
      ]
     },
     "execution_count": 8,
     "metadata": {},
     "output_type": "execute_result"
    }
   ],
   "source": [
    "emp_data['names']"
   ]
  },
  {
   "cell_type": "markdown",
   "id": "310c2a07-668e-4458-b1f7-a572fc336a6c",
   "metadata": {},
   "source": [
    "zipping the values"
   ]
  },
  {
   "cell_type": "code",
   "execution_count": 9,
   "id": "2e7175bc-e53f-46f7-b7d0-3670f6202f55",
   "metadata": {},
   "outputs": [
    {
     "name": "stdout",
     "output_type": "stream",
     "text": [
      "ids [101, 102, 103, 103]\n",
      "names ['Naman', 'Baman', 'Taman', 'Raman']\n",
      "salary [40000, 50000, 45000, 70000]\n"
     ]
    }
   ],
   "source": [
    "for i,j in emp_data.items():\n",
    "    print(i,j)    "
   ]
  },
  {
   "cell_type": "code",
   "execution_count": 16,
   "id": "5e9f08cd-e9f1-46a8-b35c-ce26316ed47d",
   "metadata": {},
   "outputs": [
    {
     "data": {
      "text/plain": [
       "{'Naman': {'id': 101, 'salary': 40000},\n",
       " 'Baman': {'id': 102, 'salary': 50000},\n",
       " 'Taman': {'id': 103, 'salary': 45000},\n",
       " 'Raman': {'id': 103, 'salary': 70000}}"
      ]
     },
     "execution_count": 16,
     "metadata": {},
     "output_type": "execute_result"
    }
   ],
   "source": [
    "new_dict = {}\n",
    "for ids,name,salary in zip(emp_data['ids'], emp_data['names'], emp_data['salary']):\n",
    "    new_dict[name] = {'id':ids,'salary':salary}\n",
    "new_dict        "
   ]
  },
  {
   "cell_type": "code",
   "execution_count": null,
   "id": "d562c042-bc6b-472e-a243-5cd4ad810d7c",
   "metadata": {},
   "outputs": [],
   "source": [
    "a = 10\n",
    "b = \"string\"\n",
    "c = 10.2\n",
    "d = [1,2,3]\n",
    "e = (\"raman\",'baman','taman')\n",
    "f = {1,2,3}"
   ]
  },
  {
   "cell_type": "code",
   "execution_count": 14,
   "id": "03518bd9-0a01-4075-9a3e-32b1b4b1b8b1",
   "metadata": {},
   "outputs": [
    {
     "name": "stdout",
     "output_type": "stream",
     "text": [
      "Riddhi\n",
      "Sakshi\n"
     ]
    }
   ],
   "source": [
    "s1 = \"Sakshi\"\n",
    "print(s1.replace(s1,\"Riddhi\"))\n",
    "print(s1)"
   ]
  },
  {
   "cell_type": "code",
   "execution_count": 27,
   "id": "009c04bd-2cc9-4dab-845e-b50f2e9fc8fe",
   "metadata": {},
   "outputs": [
    {
     "data": {
      "text/plain": [
       "6"
      ]
     },
     "execution_count": 27,
     "metadata": {},
     "output_type": "execute_result"
    }
   ],
   "source": [
    "def add(*args):\n",
    "    return sum(args)\n",
    "add(1, 2, 3 )"
   ]
  },
  {
   "cell_type": "code",
   "execution_count": 26,
   "id": "5f608e08-184d-40dd-a7ea-29f8a50de1ad",
   "metadata": {},
   "outputs": [
    {
     "name": "stdout",
     "output_type": "stream",
     "text": [
      "Suman got B\n",
      "Raman got B\n"
     ]
    }
   ],
   "source": [
    "def stud_data(**kwargs):\n",
    "    for name,scores in kwargs.items():\n",
    "        if scores>60:\n",
    "            print(name,\"got A\")\n",
    "        else:\n",
    "            print(name,\"got B\")\n",
    "stud_data(Suman=56, Raman=36)"
   ]
  },
  {
   "cell_type": "code",
   "execution_count": 37,
   "id": "ff8a464f-2ae0-48a5-a3f7-1192d6813821",
   "metadata": {},
   "outputs": [
    {
     "name": "stdin",
     "output_type": "stream",
     "text": [
      "Enter the number seperated by spaces: 2 3 4\n"
     ]
    },
    {
     "data": {
      "text/plain": [
       "[4, 9, 16]"
      ]
     },
     "execution_count": 37,
     "metadata": {},
     "output_type": "execute_result"
    }
   ],
   "source": [
    "def square(lst):\n",
    "    sq_lst =[x**2 for x in lst]\n",
    "    return sq_lst\n",
    "lst = map(int,input(\"Enter the number seperated by spaces:\").split())\n",
    "square(lst)"
   ]
  },
  {
   "cell_type": "code",
   "execution_count": 51,
   "id": "019ff5c7-acb7-453f-bf32-d3d9569c21e5",
   "metadata": {},
   "outputs": [
    {
     "name": "stdin",
     "output_type": "stream",
     "text": [
      "Enter the numbers seperated by spaces: 12 3 2\n"
     ]
    },
    {
     "name": "stdout",
     "output_type": "stream",
     "text": [
      "[144, 9, 4]\n"
     ]
    }
   ],
   "source": [
    "sq_lst = [int(i)**2 for i in input(\"Enter the numbers seperated by spaces:\").split()]\n",
    "print(sq_lst)"
   ]
  },
  {
   "cell_type": "code",
   "execution_count": 49,
   "id": "8aca07a9-b1d0-4c2c-8412-0163e55b9f05",
   "metadata": {},
   "outputs": [
    {
     "name": "stdin",
     "output_type": "stream",
     "text": [
      "Enter the number seperated by spaces: 1 2 3 4\n"
     ]
    },
    {
     "data": {
      "text/plain": [
       "[1, 4, 9, 16]"
      ]
     },
     "execution_count": 49,
     "metadata": {},
     "output_type": "execute_result"
    }
   ],
   "source": [
    "sq_lst = list(map(lambda x : x**2 ,lst))\n",
    "lst = map(int,input(\"Enter the number seperated by spaces:\").split())\n",
    "sq_lst"
   ]
  },
  {
   "cell_type": "code",
   "execution_count": null,
   "id": "7cc728c0-9c8a-4b53-af32-99a2b62348d1",
   "metadata": {},
   "outputs": [],
   "source": []
  }
 ],
 "metadata": {
  "kernelspec": {
   "display_name": "Python 3 (ipykernel)",
   "language": "python",
   "name": "python3"
  },
  "language_info": {
   "codemirror_mode": {
    "name": "ipython",
    "version": 3
   },
   "file_extension": ".py",
   "mimetype": "text/x-python",
   "name": "python",
   "nbconvert_exporter": "python",
   "pygments_lexer": "ipython3",
   "version": "3.13.5"
  }
 },
 "nbformat": 4,
 "nbformat_minor": 5
}
