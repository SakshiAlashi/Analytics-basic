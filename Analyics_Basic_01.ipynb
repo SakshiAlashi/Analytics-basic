{
 "cells": [
  {
   "cell_type": "code",
   "execution_count": 1,
   "id": "ce1619f2-aa3b-400c-b34d-f32dd8e45c29",
   "metadata": {},
   "outputs": [
    {
     "name": "stdout",
     "output_type": "stream",
     "text": [
      "Analytics Day 1:\n"
     ]
    }
   ],
   "source": [
    "print(\"Analytics Day 1:\")"
   ]
  },
  {
   "cell_type": "code",
   "execution_count": 2,
   "id": "31533d78-8aad-415d-919b-31b86bb02e95",
   "metadata": {},
   "outputs": [],
   "source": [
    "import numpy as np\n",
    "import pandas as pd"
   ]
  },
  {
   "cell_type": "code",
   "execution_count": 16,
   "id": "06767f69-8fa3-4c8f-beb9-78511d57eb9b",
   "metadata": {},
   "outputs": [
    {
     "data": {
      "text/plain": [
       "array([[0, 1],\n",
       "       [2, 3]])"
      ]
     },
     "execution_count": 16,
     "metadata": {},
     "output_type": "execute_result"
    }
   ],
   "source": [
    "arr1 = np.arange(4).reshape(2,2)\n",
    "arr1"
   ]
  },
  {
   "cell_type": "code",
   "execution_count": null,
   "id": "f4d27b20-d35a-4598-a3ee-cbb0de4fe009",
   "metadata": {},
   "outputs": [],
   "source": []
  }
 ],
 "metadata": {
  "kernelspec": {
   "display_name": "Python [conda env:base] *",
   "language": "python",
   "name": "conda-base-py"
  },
  "language_info": {
   "codemirror_mode": {
    "name": "ipython",
    "version": 3
   },
   "file_extension": ".py",
   "mimetype": "text/x-python",
   "name": "python",
   "nbconvert_exporter": "python",
   "pygments_lexer": "ipython3",
   "version": "3.13.5"
  }
 },
 "nbformat": 4,
 "nbformat_minor": 5
}
